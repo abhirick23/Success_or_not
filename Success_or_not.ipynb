{
  "cells": [
    {
      "cell_type": "code",
      "execution_count": 1,
      "metadata": {
        "colab": {
          "base_uri": "https://localhost:8080/"
        },
        "id": "oGqMbRnBbkMW",
        "outputId": "ce836eb8-94d1-4794-ea3f-05ec95efddcb"
      },
      "outputs": [
        {
          "output_type": "stream",
          "name": "stdout",
          "text": [
            "Mounted at /gdrive/\n",
            "/gdrive\n"
          ]
        }
      ],
      "source": [
        " from google.colab import drive\n",
        "drive.mount('/gdrive/')\n",
        "%cd /gdrive"
      ]
    },
    {
      "cell_type": "code",
      "execution_count": 2,
      "metadata": {
        "colab": {
          "base_uri": "https://localhost:8080/"
        },
        "id": "-VNvLWT4d_Qh",
        "outputId": "54bf3464-70ab-451e-a686-a39bb718a36c"
      },
      "outputs": [
        {
          "output_type": "stream",
          "name": "stdout",
          "text": [
            "\u001b[0m\u001b[01;34mMyDrive\u001b[0m/  \u001b[01;34mShareddrives\u001b[0m/\n"
          ]
        }
      ],
      "source": [
        "ls"
      ]
    },
    {
      "cell_type": "code",
      "execution_count": 3,
      "metadata": {
        "colab": {
          "base_uri": "https://localhost:8080/"
        },
        "id": "jb6dIiI9eAJW",
        "outputId": "e962f0c0-96dc-4186-a7aa-710b8eb9287d"
      },
      "outputs": [
        {
          "output_type": "stream",
          "name": "stdout",
          "text": [
            "/gdrive/MyDrive/Success_or_not\n"
          ]
        }
      ],
      "source": [
        "cd /gdrive/MyDrive/Success_or_not"
      ]
    },
    {
      "cell_type": "code",
      "execution_count": 4,
      "metadata": {
        "colab": {
          "base_uri": "https://localhost:8080/"
        },
        "id": "065Y7OrUejV6",
        "outputId": "c1c4b5bc-9865-46c9-bbd1-aa5c6351a226"
      },
      "outputs": [
        {
          "output_type": "stream",
          "name": "stdout",
          "text": [
            "classification.csv\n"
          ]
        }
      ],
      "source": [
        "ls"
      ]
    },
    {
      "cell_type": "markdown",
      "metadata": {
        "id": "MECJrfaT22fe"
      },
      "source": [
        "# Importing Libraries"
      ]
    },
    {
      "cell_type": "code",
      "execution_count": 5,
      "metadata": {
        "id": "X7KiAgSaelXF"
      },
      "outputs": [],
      "source": [
        "import pandas as pd\n",
        "import matplotlib.pyplot as plt\n",
        "import seaborn as sns"
      ]
    },
    {
      "cell_type": "code",
      "execution_count": 6,
      "metadata": {
        "id": "U9TKL2oP_miQ"
      },
      "outputs": [],
      "source": [
        "from sklearn import preprocessing\n",
        "import warnings\n",
        "warnings.filterwarnings(\"ignore\")\n",
        "import joblib"
      ]
    },
    {
      "cell_type": "markdown",
      "metadata": {
        "id": "M8N0AzjC8x-t"
      },
      "source": [
        "# Uploading Dataset"
      ]
    },
    {
      "cell_type": "code",
      "execution_count": 8,
      "metadata": {
        "colab": {
          "base_uri": "https://localhost:8080/",
          "height": 206
        },
        "id": "JY8toA46ez9w",
        "outputId": "83f01989-161b-45f5-9e01-de6616d66082"
      },
      "outputs": [
        {
          "output_type": "execute_result",
          "data": {
            "text/plain": [
              "         age   interest  success\n",
              "0  23.657801  18.859917      0.0\n",
              "1  22.573729  17.969223      0.0\n",
              "2  32.553424  29.463651      0.0\n",
              "3   6.718035  25.704665      1.0\n",
              "4  14.401919  16.770856      0.0"
            ],
            "text/html": [
              "\n",
              "  <div id=\"df-3fe91490-8635-42a4-8237-522b5fc6fbea\">\n",
              "    <div class=\"colab-df-container\">\n",
              "      <div>\n",
              "<style scoped>\n",
              "    .dataframe tbody tr th:only-of-type {\n",
              "        vertical-align: middle;\n",
              "    }\n",
              "\n",
              "    .dataframe tbody tr th {\n",
              "        vertical-align: top;\n",
              "    }\n",
              "\n",
              "    .dataframe thead th {\n",
              "        text-align: right;\n",
              "    }\n",
              "</style>\n",
              "<table border=\"1\" class=\"dataframe\">\n",
              "  <thead>\n",
              "    <tr style=\"text-align: right;\">\n",
              "      <th></th>\n",
              "      <th>age</th>\n",
              "      <th>interest</th>\n",
              "      <th>success</th>\n",
              "    </tr>\n",
              "  </thead>\n",
              "  <tbody>\n",
              "    <tr>\n",
              "      <th>0</th>\n",
              "      <td>23.657801</td>\n",
              "      <td>18.859917</td>\n",
              "      <td>0.0</td>\n",
              "    </tr>\n",
              "    <tr>\n",
              "      <th>1</th>\n",
              "      <td>22.573729</td>\n",
              "      <td>17.969223</td>\n",
              "      <td>0.0</td>\n",
              "    </tr>\n",
              "    <tr>\n",
              "      <th>2</th>\n",
              "      <td>32.553424</td>\n",
              "      <td>29.463651</td>\n",
              "      <td>0.0</td>\n",
              "    </tr>\n",
              "    <tr>\n",
              "      <th>3</th>\n",
              "      <td>6.718035</td>\n",
              "      <td>25.704665</td>\n",
              "      <td>1.0</td>\n",
              "    </tr>\n",
              "    <tr>\n",
              "      <th>4</th>\n",
              "      <td>14.401919</td>\n",
              "      <td>16.770856</td>\n",
              "      <td>0.0</td>\n",
              "    </tr>\n",
              "  </tbody>\n",
              "</table>\n",
              "</div>\n",
              "      <button class=\"colab-df-convert\" onclick=\"convertToInteractive('df-3fe91490-8635-42a4-8237-522b5fc6fbea')\"\n",
              "              title=\"Convert this dataframe to an interactive table.\"\n",
              "              style=\"display:none;\">\n",
              "        \n",
              "  <svg xmlns=\"http://www.w3.org/2000/svg\" height=\"24px\"viewBox=\"0 0 24 24\"\n",
              "       width=\"24px\">\n",
              "    <path d=\"M0 0h24v24H0V0z\" fill=\"none\"/>\n",
              "    <path d=\"M18.56 5.44l.94 2.06.94-2.06 2.06-.94-2.06-.94-.94-2.06-.94 2.06-2.06.94zm-11 1L8.5 8.5l.94-2.06 2.06-.94-2.06-.94L8.5 2.5l-.94 2.06-2.06.94zm10 10l.94 2.06.94-2.06 2.06-.94-2.06-.94-.94-2.06-.94 2.06-2.06.94z\"/><path d=\"M17.41 7.96l-1.37-1.37c-.4-.4-.92-.59-1.43-.59-.52 0-1.04.2-1.43.59L10.3 9.45l-7.72 7.72c-.78.78-.78 2.05 0 2.83L4 21.41c.39.39.9.59 1.41.59.51 0 1.02-.2 1.41-.59l7.78-7.78 2.81-2.81c.8-.78.8-2.07 0-2.86zM5.41 20L4 18.59l7.72-7.72 1.47 1.35L5.41 20z\"/>\n",
              "  </svg>\n",
              "      </button>\n",
              "      \n",
              "  <style>\n",
              "    .colab-df-container {\n",
              "      display:flex;\n",
              "      flex-wrap:wrap;\n",
              "      gap: 12px;\n",
              "    }\n",
              "\n",
              "    .colab-df-convert {\n",
              "      background-color: #E8F0FE;\n",
              "      border: none;\n",
              "      border-radius: 50%;\n",
              "      cursor: pointer;\n",
              "      display: none;\n",
              "      fill: #1967D2;\n",
              "      height: 32px;\n",
              "      padding: 0 0 0 0;\n",
              "      width: 32px;\n",
              "    }\n",
              "\n",
              "    .colab-df-convert:hover {\n",
              "      background-color: #E2EBFA;\n",
              "      box-shadow: 0px 1px 2px rgba(60, 64, 67, 0.3), 0px 1px 3px 1px rgba(60, 64, 67, 0.15);\n",
              "      fill: #174EA6;\n",
              "    }\n",
              "\n",
              "    [theme=dark] .colab-df-convert {\n",
              "      background-color: #3B4455;\n",
              "      fill: #D2E3FC;\n",
              "    }\n",
              "\n",
              "    [theme=dark] .colab-df-convert:hover {\n",
              "      background-color: #434B5C;\n",
              "      box-shadow: 0px 1px 3px 1px rgba(0, 0, 0, 0.15);\n",
              "      filter: drop-shadow(0px 1px 2px rgba(0, 0, 0, 0.3));\n",
              "      fill: #FFFFFF;\n",
              "    }\n",
              "  </style>\n",
              "\n",
              "      <script>\n",
              "        const buttonEl =\n",
              "          document.querySelector('#df-3fe91490-8635-42a4-8237-522b5fc6fbea button.colab-df-convert');\n",
              "        buttonEl.style.display =\n",
              "          google.colab.kernel.accessAllowed ? 'block' : 'none';\n",
              "\n",
              "        async function convertToInteractive(key) {\n",
              "          const element = document.querySelector('#df-3fe91490-8635-42a4-8237-522b5fc6fbea');\n",
              "          const dataTable =\n",
              "            await google.colab.kernel.invokeFunction('convertToInteractive',\n",
              "                                                     [key], {});\n",
              "          if (!dataTable) return;\n",
              "\n",
              "          const docLinkHtml = 'Like what you see? Visit the ' +\n",
              "            '<a target=\"_blank\" href=https://colab.research.google.com/notebooks/data_table.ipynb>data table notebook</a>'\n",
              "            + ' to learn more about interactive tables.';\n",
              "          element.innerHTML = '';\n",
              "          dataTable['output_type'] = 'display_data';\n",
              "          await google.colab.output.renderOutput(dataTable, element);\n",
              "          const docLink = document.createElement('div');\n",
              "          docLink.innerHTML = docLinkHtml;\n",
              "          element.appendChild(docLink);\n",
              "        }\n",
              "      </script>\n",
              "    </div>\n",
              "  </div>\n",
              "  "
            ]
          },
          "metadata": {},
          "execution_count": 8
        }
      ],
      "source": [
        "df_train=pd.read_csv('classification.csv')\n",
        "df_train.head()"
      ]
    },
    {
      "cell_type": "code",
      "execution_count": 9,
      "metadata": {
        "colab": {
          "base_uri": "https://localhost:8080/"
        },
        "id": "1h0Qu2MfvkYg",
        "outputId": "5aba2621-9cdc-4f8c-cb3e-05c4286a15ab"
      },
      "outputs": [
        {
          "output_type": "stream",
          "name": "stdout",
          "text": [
            "<class 'pandas.core.frame.DataFrame'>\n",
            "RangeIndex: 297 entries, 0 to 296\n",
            "Data columns (total 3 columns):\n",
            " #   Column    Non-Null Count  Dtype  \n",
            "---  ------    --------------  -----  \n",
            " 0   age       297 non-null    float64\n",
            " 1   interest  297 non-null    float64\n",
            " 2   success   297 non-null    float64\n",
            "dtypes: float64(3)\n",
            "memory usage: 7.1 KB\n"
          ]
        }
      ],
      "source": [
        "df_train.info()"
      ]
    },
    {
      "cell_type": "code",
      "execution_count": 10,
      "metadata": {
        "colab": {
          "base_uri": "https://localhost:8080/",
          "height": 300
        },
        "id": "_V_Yfnn2qzGg",
        "outputId": "917902a4-f536-4b44-c008-81fd5ed50f7c"
      },
      "outputs": [
        {
          "output_type": "execute_result",
          "data": {
            "text/plain": [
              "<pandas.io.formats.style.Styler at 0x7f9ea4f569d0>"
            ],
            "text/html": [
              "<style type=\"text/css\">\n",
              "#T_33af6_row0_col0, #T_33af6_row0_col1, #T_33af6_row0_col2 {\n",
              "  background-color: #006837;\n",
              "  color: #f1f1f1;\n",
              "}\n",
              "#T_33af6_row1_col0, #T_33af6_row5_col0 {\n",
              "  background-color: #c82227;\n",
              "  color: #f1f1f1;\n",
              "}\n",
              "#T_33af6_row1_col1 {\n",
              "  background-color: #e95538;\n",
              "  color: #f1f1f1;\n",
              "}\n",
              "#T_33af6_row1_col2, #T_33af6_row2_col2, #T_33af6_row3_col0, #T_33af6_row3_col1, #T_33af6_row3_col2, #T_33af6_row4_col2, #T_33af6_row5_col2, #T_33af6_row6_col2, #T_33af6_row7_col2 {\n",
              "  background-color: #a50026;\n",
              "  color: #f1f1f1;\n",
              "}\n",
              "#T_33af6_row2_col0 {\n",
              "  background-color: #af0926;\n",
              "  color: #f1f1f1;\n",
              "}\n",
              "#T_33af6_row2_col1 {\n",
              "  background-color: #ca2427;\n",
              "  color: #f1f1f1;\n",
              "}\n",
              "#T_33af6_row4_col0 {\n",
              "  background-color: #bd1726;\n",
              "  color: #f1f1f1;\n",
              "}\n",
              "#T_33af6_row4_col1 {\n",
              "  background-color: #d62f27;\n",
              "  color: #f1f1f1;\n",
              "}\n",
              "#T_33af6_row5_col1 {\n",
              "  background-color: #e75337;\n",
              "  color: #f1f1f1;\n",
              "}\n",
              "#T_33af6_row6_col0 {\n",
              "  background-color: #d42d27;\n",
              "  color: #f1f1f1;\n",
              "}\n",
              "#T_33af6_row6_col1 {\n",
              "  background-color: #f67a49;\n",
              "  color: #f1f1f1;\n",
              "}\n",
              "#T_33af6_row7_col0 {\n",
              "  background-color: #e44c34;\n",
              "  color: #f1f1f1;\n",
              "}\n",
              "#T_33af6_row7_col1 {\n",
              "  background-color: #fdbd6d;\n",
              "  color: #000000;\n",
              "}\n",
              "</style>\n",
              "<table id=\"T_33af6_\" class=\"dataframe\">\n",
              "  <thead>\n",
              "    <tr>\n",
              "      <th class=\"blank level0\" >&nbsp;</th>\n",
              "      <th class=\"col_heading level0 col0\" >age</th>\n",
              "      <th class=\"col_heading level0 col1\" >interest</th>\n",
              "      <th class=\"col_heading level0 col2\" >success</th>\n",
              "    </tr>\n",
              "  </thead>\n",
              "  <tbody>\n",
              "    <tr>\n",
              "      <th id=\"T_33af6_level0_row0\" class=\"row_heading level0 row0\" >count</th>\n",
              "      <td id=\"T_33af6_row0_col0\" class=\"data row0 col0\" >297.000000</td>\n",
              "      <td id=\"T_33af6_row0_col1\" class=\"data row0 col1\" >297.000000</td>\n",
              "      <td id=\"T_33af6_row0_col2\" class=\"data row0 col2\" >297.000000</td>\n",
              "    </tr>\n",
              "    <tr>\n",
              "      <th id=\"T_33af6_level0_row1\" class=\"row_heading level0 row1\" >mean</th>\n",
              "      <td id=\"T_33af6_row1_col0\" class=\"data row1 col0\" >23.709718</td>\n",
              "      <td id=\"T_33af6_row1_col1\" class=\"data row1 col1\" >46.986527</td>\n",
              "      <td id=\"T_33af6_row1_col2\" class=\"data row1 col2\" >0.569024</td>\n",
              "    </tr>\n",
              "    <tr>\n",
              "      <th id=\"T_33af6_level0_row2\" class=\"row_heading level0 row2\" >std</th>\n",
              "      <td id=\"T_33af6_row2_col0\" class=\"data row2 col0\" >8.864000</td>\n",
              "      <td id=\"T_33af6_row2_col1\" class=\"data row2 col1\" >21.956447</td>\n",
              "      <td id=\"T_33af6_row2_col2\" class=\"data row2 col2\" >0.496049</td>\n",
              "    </tr>\n",
              "    <tr>\n",
              "      <th id=\"T_33af6_level0_row3\" class=\"row_heading level0 row3\" >min</th>\n",
              "      <td id=\"T_33af6_row3_col0\" class=\"data row3 col0\" >2.347560</td>\n",
              "      <td id=\"T_33af6_row3_col1\" class=\"data row3 col1\" >-0.852800</td>\n",
              "      <td id=\"T_33af6_row3_col2\" class=\"data row3 col2\" >0.000000</td>\n",
              "    </tr>\n",
              "    <tr>\n",
              "      <th id=\"T_33af6_level0_row4\" class=\"row_heading level0 row4\" >25%</th>\n",
              "      <td id=\"T_33af6_row4_col0\" class=\"data row4 col0\" >17.002148</td>\n",
              "      <td id=\"T_33af6_row4_col1\" class=\"data row4 col1\" >28.689067</td>\n",
              "      <td id=\"T_33af6_row4_col2\" class=\"data row4 col2\" >0.000000</td>\n",
              "    </tr>\n",
              "    <tr>\n",
              "      <th id=\"T_33af6_level0_row5\" class=\"row_heading level0 row5\" >50%</th>\n",
              "      <td id=\"T_33af6_row5_col0\" class=\"data row5 col0\" >23.283644</td>\n",
              "      <td id=\"T_33af6_row5_col1\" class=\"data row5 col1\" >45.695926</td>\n",
              "      <td id=\"T_33af6_row5_col2\" class=\"data row5 col2\" >1.000000</td>\n",
              "    </tr>\n",
              "    <tr>\n",
              "      <th id=\"T_33af6_level0_row6\" class=\"row_heading level0 row6\" >75%</th>\n",
              "      <td id=\"T_33af6_row6_col0\" class=\"data row6 col0\" >30.661149</td>\n",
              "      <td id=\"T_33af6_row6_col1\" class=\"data row6 col1\" >65.171876</td>\n",
              "      <td id=\"T_33af6_row6_col2\" class=\"data row6 col2\" >1.000000</td>\n",
              "    </tr>\n",
              "    <tr>\n",
              "      <th id=\"T_33af6_level0_row7\" class=\"row_heading level0 row7\" >max</th>\n",
              "      <td id=\"T_33af6_row7_col0\" class=\"data row7 col0\" >45.773729</td>\n",
              "      <td id=\"T_33af6_row7_col1\" class=\"data row7 col1\" >97.175508</td>\n",
              "      <td id=\"T_33af6_row7_col2\" class=\"data row7 col2\" >1.000000</td>\n",
              "    </tr>\n",
              "  </tbody>\n",
              "</table>\n"
            ]
          },
          "metadata": {},
          "execution_count": 10
        }
      ],
      "source": [
        "df_train.describe().style.background_gradient(axis=0,cmap = 'RdYlGn')"
      ]
    },
    {
      "cell_type": "markdown",
      "metadata": {
        "id": "X0ky4LRt88QU"
      },
      "source": [
        "# EDA"
      ]
    },
    {
      "cell_type": "code",
      "execution_count": 11,
      "metadata": {
        "colab": {
          "base_uri": "https://localhost:8080/"
        },
        "id": "uYniR82xinQt",
        "outputId": "a2176497-0e1c-485f-a6b2-8d6f20f05567"
      },
      "outputs": [
        {
          "output_type": "execute_result",
          "data": {
            "text/plain": [
              "age         0\n",
              "interest    0\n",
              "success     0\n",
              "dtype: int64"
            ]
          },
          "metadata": {},
          "execution_count": 11
        }
      ],
      "source": [
        "df_train.isna().sum()"
      ]
    },
    {
      "cell_type": "code",
      "execution_count": 12,
      "metadata": {
        "colab": {
          "base_uri": "https://localhost:8080/"
        },
        "id": "WKewTr_juCGU",
        "outputId": "21244a99-6230-442b-904a-b4c147bf8a72"
      },
      "outputs": [
        {
          "output_type": "execute_result",
          "data": {
            "text/plain": [
              "Index(['age', 'interest', 'success'], dtype='object')"
            ]
          },
          "metadata": {},
          "execution_count": 12
        }
      ],
      "source": [
        "df_train.columns"
      ]
    },
    {
      "cell_type": "code",
      "execution_count": 13,
      "metadata": {
        "id": "6ezbE_jBkBYo"
      },
      "outputs": [],
      "source": [
        "columns = df_train.columns\n",
        "binary_cols = []\n",
        "remain_cols=[]\n",
        "for col in columns:\n",
        "    if df_train[col].value_counts().shape[0] == 2:\n",
        "        binary_cols.append(col)\n",
        "    else:\n",
        "      remain_cols.append(col)"
      ]
    },
    {
      "cell_type": "code",
      "execution_count": 14,
      "metadata": {
        "colab": {
          "base_uri": "https://localhost:8080/"
        },
        "id": "aSPZVqdyN3nC",
        "outputId": "0345d46b-5f1e-4ddb-fdf8-7edf3d8bf118"
      },
      "outputs": [
        {
          "output_type": "execute_result",
          "data": {
            "text/plain": [
              "['success']"
            ]
          },
          "metadata": {},
          "execution_count": 14
        }
      ],
      "source": [
        "binary_cols"
      ]
    },
    {
      "cell_type": "code",
      "execution_count": 16,
      "metadata": {
        "colab": {
          "base_uri": "https://localhost:8080/",
          "height": 297
        },
        "id": "GH3kFKP4T0sD",
        "outputId": "e24d2abc-807a-4b88-b791-3267f9db3295"
      },
      "outputs": [
        {
          "output_type": "execute_result",
          "data": {
            "text/plain": [
              "<matplotlib.axes._subplots.AxesSubplot at 0x7f9ea56cecd0>"
            ]
          },
          "metadata": {},
          "execution_count": 16
        },
        {
          "output_type": "display_data",
          "data": {
            "text/plain": [
              "<Figure size 432x288 with 1 Axes>"
            ],
            "image/png": "[encoded data removed]"
          },
          "metadata": {
            "needs_background": "light"
          }
        }
      ],
      "source": [
        "sns.countplot(\"success\", data=df_train)"
      ]
    },
    {
      "cell_type": "code",
      "source": [
        "sns.countplot(\"interest\", data=df_train) "
      ],
      "metadata": {
        "colab": {
          "base_uri": "https://localhost:8080/",
          "height": 297
        },
        "id": "39N3zIemtFao",
        "outputId": "d4812072-e000-4551-f294-1ac8d9d74e66"
      },
      "execution_count": 17,
      "outputs": [
        {
          "output_type": "execute_result",
          "data": {
            "text/plain": [
              "<matplotlib.axes._subplots.AxesSubplot at 0x7f9ea3c60490>"
            ]
          },
          "metadata": {},
          "execution_count": 17
        },
        {
          "output_type": "display_data",
          "data": {
            "text/plain": [
              "<Figure size 432x288 with 1 Axes>"
            ],
            "image/png": "[encoded data removed]"
          },
          "metadata": {
            "needs_background": "light"
          }
        }
      ]
    },
    {
      "cell_type": "code",
      "execution_count": 18,
      "metadata": {
        "colab": {
          "base_uri": "https://localhost:8080/",
          "height": 745
        },
        "id": "sY77f2Bqibnw",
        "outputId": "6b15c49f-9ce3-4244-ed97-787f7f01e866"
      },
      "outputs": [
        {
          "output_type": "display_data",
          "data": {
            "text/plain": [
              "<Figure size 1200x900 with 2 Axes>"
            ],
            "image/png": "[encoded data removed]"
          },
          "metadata": {
            "needs_background": "light"
          }
        }
      ],
      "source": [
        "plt.figure(figsize=(12,9),dpi = 100)\n",
        "sns.heatmap(df_train.corr(),vmax=.8,annot = True, square = True)\n",
        "plt.show()"
      ]
    },
    {
      "cell_type": "code",
      "execution_count": 19,
      "metadata": {
        "colab": {
          "base_uri": "https://localhost:8080/",
          "height": 566
        },
        "id": "1G1E34rAnGdb",
        "outputId": "2eb71958-5443-405b-f5ea-58bccef2454f"
      },
      "outputs": [
        {
          "output_type": "execute_result",
          "data": {
            "text/plain": [
              "<seaborn.axisgrid.PairGrid at 0x7f9ea0bdecd0>"
            ]
          },
          "metadata": {},
          "execution_count": 19
        },
        {
          "output_type": "display_data",
          "data": {
            "text/plain": [
              "<Figure size 540x540 with 12 Axes>"
            ],
            "image/png": "[encoded data removed]"
          },
          "metadata": {}
        }
      ],
      "source": [
        "sns.set(rc={'figure.figsize':(11.7,8.27)})\n",
        "cData_attr = df_train.iloc[:, 0:7]\n",
        "sns.pairplot(cData_attr, diag_kind='kde')   "
      ]
    },
    {
      "cell_type": "code",
      "execution_count": 20,
      "metadata": {
        "id": "D9nyftUsocLY"
      },
      "outputs": [],
      "source": [
        "X = df_train.drop(['success'], axis = 1)\n",
        "Y = df_train[\"success\"]\n",
        "x_Data = X.values\n",
        "y_Data = Y.values"
      ]
    },
    {
      "cell_type": "code",
      "execution_count": 21,
      "metadata": {
        "id": "AK8Lh_Z52fSj"
      },
      "outputs": [],
      "source": [
        "from sklearn.model_selection import train_test_split"
      ]
    },
    {
      "cell_type": "code",
      "execution_count": 22,
      "metadata": {
        "id": "3tDiKMg1w-V0"
      },
      "outputs": [],
      "source": [
        "X_train, X_test, y_train, y_test = train_test_split(x_Data, y_Data, test_size = 0.2, random_state = 42)"
      ]
    },
    {
      "cell_type": "markdown",
      "metadata": {
        "id": "DDGUQJQI2bQJ"
      },
      "source": [
        "# Naive Bayes"
      ]
    },
    {
      "cell_type": "code",
      "execution_count": 23,
      "metadata": {
        "id": "BYuyLfKX3A3t",
        "colab": {
          "base_uri": "https://localhost:8080/"
        },
        "outputId": "a36c5ce6-e0ac-4cdd-9749-9382f37c04c2"
      },
      "outputs": [
        {
          "output_type": "execute_result",
          "data": {
            "text/plain": [
              "GaussianNB()"
            ]
          },
          "metadata": {},
          "execution_count": 23
        }
      ],
      "source": [
        "from sklearn.naive_bayes import GaussianNB\n",
        "model = GaussianNB()\n",
        "model.fit(X_train,y_train)"
      ]
    },
    {
      "cell_type": "code",
      "execution_count": 24,
      "metadata": {
        "colab": {
          "base_uri": "https://localhost:8080/"
        },
        "id": "iy_kQRAi3A02",
        "outputId": "28a38f34-7107-4763-881e-7d400ef337cd"
      },
      "outputs": [
        {
          "output_type": "execute_result",
          "data": {
            "text/plain": [
              "0.9166666666666666"
            ]
          },
          "metadata": {},
          "execution_count": 24
        }
      ],
      "source": [
        "model.score(X_test,y_test)"
      ]
    },
    {
      "cell_type": "code",
      "execution_count": 25,
      "metadata": {
        "colab": {
          "base_uri": "https://localhost:8080/"
        },
        "id": "-Cqyx2Uf3ZOr",
        "outputId": "ee154fa6-8293-453b-88b6-116184292db2"
      },
      "outputs": [
        {
          "output_type": "stream",
          "name": "stdout",
          "text": [
            "[0.9375     0.79166667 0.93617021 0.82978723 0.89361702]\n"
          ]
        }
      ],
      "source": [
        "from sklearn.model_selection import cross_val_score\n",
        "print(cross_val_score(GaussianNB(),X_train, y_train, cv=5))"
      ]
    },
    {
      "cell_type": "code",
      "execution_count": 26,
      "metadata": {
        "id": "YLM1_VL-xAgU"
      },
      "outputs": [],
      "source": [
        "from sklearn.metrics import accuracy_score\n",
        "from sklearn.metrics import confusion_matrix"
      ]
    },
    {
      "cell_type": "code",
      "execution_count": 27,
      "metadata": {
        "colab": {
          "base_uri": "https://localhost:8080/"
        },
        "id": "Yyhvsl9rxRwa",
        "outputId": "1cbd7c5c-f50f-439a-f8df-ee89bc100037"
      },
      "outputs": [
        {
          "output_type": "execute_result",
          "data": {
            "text/plain": [
              "0.8734177215189873"
            ]
          },
          "metadata": {},
          "execution_count": 27
        }
      ],
      "source": [
        "pred = model.predict(X_train) \n",
        "accuracy_score(y_train, pred)"
      ]
    },
    {
      "cell_type": "code",
      "execution_count": 28,
      "metadata": {
        "colab": {
          "base_uri": "https://localhost:8080/"
        },
        "id": "_44fUQ1NxXm1",
        "outputId": "bfb28c24-253f-46c5-858a-958511f54569"
      },
      "outputs": [
        {
          "output_type": "execute_result",
          "data": {
            "text/plain": [
              "array([[100,   9],\n",
              "       [ 21, 107]])"
            ]
          },
          "metadata": {},
          "execution_count": 28
        }
      ],
      "source": [
        "confusion_matrix(y_train, pred)"
      ]
    },
    {
      "cell_type": "code",
      "execution_count": 29,
      "metadata": {
        "id": "zHx3D7pexY6p"
      },
      "outputs": [],
      "source": [
        "predicted_test = model.predict(X_test)\n",
        "p=accuracy_score(y_test, predicted_test)"
      ]
    },
    {
      "cell_type": "code",
      "execution_count": 30,
      "metadata": {
        "id": "STI9ZOi_5mtG"
      },
      "outputs": [],
      "source": [
        "from sklearn.metrics import precision_score, recall_score, confusion_matrix, classification_report, accuracy_score, f1_score"
      ]
    },
    {
      "cell_type": "code",
      "execution_count": 31,
      "metadata": {
        "colab": {
          "base_uri": "https://localhost:8080/"
        },
        "id": "SBBxEQll5nWM",
        "outputId": "9c50245d-d9a3-4523-baf9-f81ad2ad3831"
      },
      "outputs": [
        {
          "output_type": "stream",
          "name": "stdout",
          "text": [
            "              precision    recall  f1-score   support\n",
            "\n",
            "         0.0       0.82      0.95      0.88        19\n",
            "         1.0       0.97      0.90      0.94        41\n",
            "\n",
            "    accuracy                           0.92        60\n",
            "   macro avg       0.90      0.92      0.91        60\n",
            "weighted avg       0.92      0.92      0.92        60\n",
            "\n"
          ]
        }
      ],
      "source": [
        "print(classification_report(y_test, predicted_test))"
      ]
    },
    {
      "cell_type": "code",
      "execution_count": 32,
      "metadata": {
        "id": "fo70sDGJ40Xy"
      },
      "outputs": [],
      "source": [
        "cma = confusion_matrix(y_test, predicted_test)"
      ]
    },
    {
      "cell_type": "code",
      "execution_count": 33,
      "metadata": {
        "colab": {
          "base_uri": "https://localhost:8080/",
          "height": 0
        },
        "id": "fUujs5aj44xb",
        "outputId": "2182d918-4438-49c0-96ae-d8b0320ff12e"
      },
      "outputs": [
        {
          "output_type": "display_data",
          "data": {
            "text/plain": [
              "<Figure size 360x360 with 1 Axes>"
            ],
            "image/png": "[encoded data removed]"
          },
          "metadata": {}
        }
      ],
      "source": [
        "fig, ax = plt.subplots(figsize=(5, 5))\n",
        "ax.matshow(cma, cmap=plt.cm.Blues, alpha=0.3)\n",
        "for i in range(cma.shape[0]):\n",
        "    for j in range(cma.shape[1]):\n",
        "        ax.text(x=j, y=i,s=cma[i, j], va='center', ha='center', size='xx-large')\n",
        " \n",
        "plt.xlabel('Predictions', fontsize=18)\n",
        "plt.ylabel('Actuals', fontsize=18)\n",
        "plt.title('Confusion Matrix', fontsize=18)\n",
        "plt.show()"
      ]
    },
    {
      "cell_type": "markdown",
      "metadata": {
        "id": "ER14c1sn5NJM"
      },
      "source": [
        "# Random forest Classifier"
      ]
    },
    {
      "cell_type": "code",
      "execution_count": 34,
      "metadata": {
        "id": "wEuWJJSdIYPv"
      },
      "outputs": [],
      "source": [
        "from sklearn.ensemble import RandomForestClassifier as rf"
      ]
    },
    {
      "cell_type": "code",
      "execution_count": 35,
      "metadata": {
        "colab": {
          "base_uri": "https://localhost:8080/"
        },
        "id": "shJxzWABxbsI",
        "outputId": "f8caae44-2cd0-4380-8393-b9a3349a8697"
      },
      "outputs": [
        {
          "output_type": "execute_result",
          "data": {
            "text/plain": [
              "RandomForestClassifier(max_depth=10)"
            ]
          },
          "metadata": {},
          "execution_count": 35
        }
      ],
      "source": [
        "clf_forest = rf(n_estimators=100, max_depth=10)\n",
        "clf_forest.fit(X_train, y_train)"
      ]
    },
    {
      "cell_type": "code",
      "execution_count": 36,
      "metadata": {
        "colab": {
          "base_uri": "https://localhost:8080/"
        },
        "id": "rKWPnnwOxjkX",
        "outputId": "f28a97e8-2faf-4044-a447-726bcfee0c57"
      },
      "outputs": [
        {
          "output_type": "execute_result",
          "data": {
            "text/plain": [
              "1.0"
            ]
          },
          "metadata": {},
          "execution_count": 36
        }
      ],
      "source": [
        "pred = clf_forest.predict(X_train)\n",
        "accuracy_score(y_train, pred)"
      ]
    },
    {
      "cell_type": "code",
      "execution_count": 37,
      "metadata": {
        "colab": {
          "base_uri": "https://localhost:8080/"
        },
        "id": "Flpe89ZFxoUD",
        "outputId": "055e9f98-e1e9-40d2-a111-baddfa5acf28"
      },
      "outputs": [
        {
          "output_type": "execute_result",
          "data": {
            "text/plain": [
              "array([[109,   0],\n",
              "       [  0, 128]])"
            ]
          },
          "metadata": {},
          "execution_count": 37
        }
      ],
      "source": [
        "confusion_matrix(y_train, pred)"
      ]
    },
    {
      "cell_type": "code",
      "execution_count": 38,
      "metadata": {
        "id": "8rlcR7LAxrJX"
      },
      "outputs": [],
      "source": [
        "pred_test = clf_forest.predict(X_test)\n",
        "q=accuracy_score(y_test, pred_test)"
      ]
    },
    {
      "cell_type": "code",
      "execution_count": 39,
      "metadata": {
        "id": "jvCb5EHXyC17"
      },
      "outputs": [],
      "source": [
        "from sklearn.metrics import precision_score, recall_score, confusion_matrix, classification_report, accuracy_score, f1_score"
      ]
    },
    {
      "cell_type": "code",
      "execution_count": 40,
      "metadata": {
        "colab": {
          "base_uri": "https://localhost:8080/"
        },
        "id": "SPCdr4DTzquk",
        "outputId": "41be0987-3882-4fca-91f0-9913995e1409"
      },
      "outputs": [
        {
          "output_type": "stream",
          "name": "stdout",
          "text": [
            "              precision    recall  f1-score   support\n",
            "\n",
            "         0.0       1.00      0.95      0.97        19\n",
            "         1.0       0.98      1.00      0.99        41\n",
            "\n",
            "    accuracy                           0.98        60\n",
            "   macro avg       0.99      0.97      0.98        60\n",
            "weighted avg       0.98      0.98      0.98        60\n",
            "\n"
          ]
        }
      ],
      "source": [
        "print(classification_report(y_test, pred_test))"
      ]
    },
    {
      "cell_type": "code",
      "execution_count": 41,
      "metadata": {
        "id": "It-ypX4X0OCx"
      },
      "outputs": [],
      "source": [
        "cma = confusion_matrix(y_test, pred_test)"
      ]
    },
    {
      "cell_type": "code",
      "execution_count": 42,
      "metadata": {
        "colab": {
          "base_uri": "https://localhost:8080/",
          "height": 0
        },
        "id": "3iAkGRhD0Rvi",
        "outputId": "b666e9da-860f-4803-b1ce-eb1aac17280a"
      },
      "outputs": [
        {
          "output_type": "display_data",
          "data": {
            "text/plain": [
              "<Figure size 360x360 with 1 Axes>"
            ],
            "image/png": "[encoded data removed]"
          },
          "metadata": {}
        }
      ],
      "source": [
        "fig, ax = plt.subplots(figsize=(5, 5))\n",
        "ax.matshow(cma, cmap =\"coolwarm_r\", alpha=0.3)\n",
        "for i in range(cma.shape[0]):\n",
        "    for j in range(cma.shape[1]):\n",
        "        ax.text(x=j, y=i,s=cma[i, j], va='center', ha='center', size='xx-large')\n",
        " \n",
        "plt.xlabel('Predictions', fontsize=18)\n",
        "plt.ylabel('Actuals', fontsize=18)\n",
        "plt.title('Confusion Matrix', fontsize=18)\n",
        "plt.show()"
      ]
    },
    {
      "cell_type": "markdown",
      "metadata": {
        "id": "WXjjL8Kopoi1"
      },
      "source": [
        "# Decision Tree Classifier"
      ]
    },
    {
      "cell_type": "code",
      "execution_count": 43,
      "metadata": {
        "id": "9D00OqD08nTb"
      },
      "outputs": [],
      "source": [
        "from sklearn import tree"
      ]
    },
    {
      "cell_type": "code",
      "execution_count": 44,
      "metadata": {
        "id": "hX4z41NdpmuY"
      },
      "outputs": [],
      "source": [
        " clf = tree.DecisionTreeClassifier()\n",
        " clf = clf.fit(X_train, y_train)"
      ]
    },
    {
      "cell_type": "code",
      "execution_count": 45,
      "metadata": {
        "colab": {
          "base_uri": "https://localhost:8080/"
        },
        "id": "I-Y3TumGp-YT",
        "outputId": "fb2afe3e-84e4-4378-85ee-1d08fc87764a"
      },
      "outputs": [
        {
          "output_type": "execute_result",
          "data": {
            "text/plain": [
              "1.0"
            ]
          },
          "metadata": {},
          "execution_count": 45
        }
      ],
      "source": [
        "pred1 = clf.predict(X_train)\n",
        "accuracy_score(y_train, pred1)"
      ]
    },
    {
      "cell_type": "code",
      "execution_count": 46,
      "metadata": {
        "colab": {
          "base_uri": "https://localhost:8080/"
        },
        "id": "x7pR95GeqGtZ",
        "outputId": "53a52d49-2ad8-49a4-cb54-dcd6b6dee527"
      },
      "outputs": [
        {
          "output_type": "execute_result",
          "data": {
            "text/plain": [
              "array([[109,   0],\n",
              "       [  0, 128]])"
            ]
          },
          "metadata": {},
          "execution_count": 46
        }
      ],
      "source": [
        "confusion_matrix(y_train, pred1)"
      ]
    },
    {
      "cell_type": "code",
      "execution_count": 47,
      "metadata": {
        "id": "5ZTEkfBJqL2X"
      },
      "outputs": [],
      "source": [
        "pred1_test = clf.predict(X_test)\n",
        "r=accuracy_score(y_test, pred1_test)"
      ]
    },
    {
      "cell_type": "code",
      "execution_count": 48,
      "metadata": {
        "colab": {
          "base_uri": "https://localhost:8080/"
        },
        "id": "-VDC628AqqD_",
        "outputId": "ad5538dd-de0a-4963-86c6-ca5624638517"
      },
      "outputs": [
        {
          "output_type": "stream",
          "name": "stdout",
          "text": [
            "              precision    recall  f1-score   support\n",
            "\n",
            "         0.0       0.90      0.95      0.92        19\n",
            "         1.0       0.97      0.95      0.96        41\n",
            "\n",
            "    accuracy                           0.95        60\n",
            "   macro avg       0.94      0.95      0.94        60\n",
            "weighted avg       0.95      0.95      0.95        60\n",
            "\n"
          ]
        }
      ],
      "source": [
        "print(classification_report(y_test, pred1_test))"
      ]
    },
    {
      "cell_type": "code",
      "execution_count": 49,
      "metadata": {
        "id": "GR1EguEzq1Nu"
      },
      "outputs": [],
      "source": [
        "cma = confusion_matrix(y_test, pred1_test)"
      ]
    },
    {
      "cell_type": "code",
      "execution_count": 50,
      "metadata": {
        "colab": {
          "base_uri": "https://localhost:8080/",
          "height": 0
        },
        "id": "UVy-y7-Uq7zf",
        "outputId": "5c64b3b0-60cb-4716-a157-5166e388fbc3"
      },
      "outputs": [
        {
          "output_type": "display_data",
          "data": {
            "text/plain": [
              "<Figure size 360x360 with 1 Axes>"
            ],
            "image/png": "[encoded data removed]"
          },
          "metadata": {}
        }
      ],
      "source": [
        "fig, ax = plt.subplots(figsize=(5, 5))\n",
        "ax.matshow(cma, cmap =\"coolwarm_r\", alpha=0.3)\n",
        "for i in range(cma.shape[0]):\n",
        "    for j in range(cma.shape[1]):\n",
        "        ax.text(x=j, y=i,s=cma[i, j], va='center', ha='center', size='xx-large')\n",
        " \n",
        "plt.xlabel('Predictions', fontsize=18)\n",
        "plt.ylabel('Actuals', fontsize=18)\n",
        "plt.title('Confusion Matrix', fontsize=18)\n",
        "plt.show()"
      ]
    },
    {
      "cell_type": "markdown",
      "metadata": {
        "id": "Q3HsL1KFjovz"
      },
      "source": [
        "# Logistic Regression"
      ]
    },
    {
      "cell_type": "code",
      "execution_count": 51,
      "metadata": {
        "colab": {
          "base_uri": "https://localhost:8080/"
        },
        "id": "mnRsrvThg7bg",
        "outputId": "1a294d67-4ef1-4017-8d8c-30fdb89806ba"
      },
      "outputs": [
        {
          "output_type": "execute_result",
          "data": {
            "text/plain": [
              "LogisticRegression(random_state=0)"
            ]
          },
          "metadata": {},
          "execution_count": 51
        }
      ],
      "source": [
        "from sklearn.linear_model import LogisticRegression  \n",
        "clf1= LogisticRegression(random_state=0)  \n",
        "clf1.fit(X_train, y_train)  "
      ]
    },
    {
      "cell_type": "code",
      "execution_count": 52,
      "metadata": {
        "colab": {
          "base_uri": "https://localhost:8080/"
        },
        "id": "7dKoUVG6iPix",
        "outputId": "7916b6e8-f919-40c9-fca3-97cc2f13b5d2"
      },
      "outputs": [
        {
          "output_type": "execute_result",
          "data": {
            "text/plain": [
              "0.869198312236287"
            ]
          },
          "metadata": {},
          "execution_count": 52
        }
      ],
      "source": [
        "pred_LR= clf1.predict(X_train)\n",
        "accuracy_score(y_train, pred_LR)"
      ]
    },
    {
      "cell_type": "code",
      "execution_count": 53,
      "metadata": {
        "colab": {
          "base_uri": "https://localhost:8080/"
        },
        "id": "bOrf6dXFiT2y",
        "outputId": "34a838c4-e2c3-4dd4-ed09-499b2ee51548"
      },
      "outputs": [
        {
          "output_type": "execute_result",
          "data": {
            "text/plain": [
              "array([[ 98,  11],\n",
              "       [ 20, 108]])"
            ]
          },
          "metadata": {},
          "execution_count": 53
        }
      ],
      "source": [
        "confusion_matrix(y_train, pred_LR)"
      ]
    },
    {
      "cell_type": "code",
      "execution_count": 54,
      "metadata": {
        "id": "YL4rPImJitCX"
      },
      "outputs": [],
      "source": [
        "pred_LR_test = clf1.predict(X_test)\n",
        "s=accuracy_score(y_test, pred_LR_test)"
      ]
    },
    {
      "cell_type": "code",
      "execution_count": 55,
      "metadata": {
        "colab": {
          "base_uri": "https://localhost:8080/"
        },
        "id": "Nzjam_OIm8Jn",
        "outputId": "c7ce0d51-d4f7-43f2-bb60-a99493860abe"
      },
      "outputs": [
        {
          "output_type": "stream",
          "name": "stdout",
          "text": [
            "              precision    recall  f1-score   support\n",
            "\n",
            "         0.0       0.82      0.95      0.88        19\n",
            "         1.0       0.97      0.90      0.94        41\n",
            "\n",
            "    accuracy                           0.92        60\n",
            "   macro avg       0.90      0.92      0.91        60\n",
            "weighted avg       0.92      0.92      0.92        60\n",
            "\n"
          ]
        }
      ],
      "source": [
        "print(classification_report(y_test, pred_LR_test))"
      ]
    },
    {
      "cell_type": "code",
      "execution_count": 56,
      "metadata": {
        "id": "P8crEUGfnEJD"
      },
      "outputs": [],
      "source": [
        "cma = confusion_matrix(y_test, pred_LR_test)"
      ]
    },
    {
      "cell_type": "code",
      "execution_count": 57,
      "metadata": {
        "colab": {
          "base_uri": "https://localhost:8080/",
          "height": 0
        },
        "id": "gDR2YJvlnL28",
        "outputId": "84d1fe25-53fb-4583-c5ce-a04362a03964"
      },
      "outputs": [
        {
          "output_type": "display_data",
          "data": {
            "text/plain": [
              "<Figure size 360x360 with 1 Axes>"
            ],
            "image/png": "[encoded data removed]"
          },
          "metadata": {}
        }
      ],
      "source": [
        "fig, ax = plt.subplots(figsize=(5, 5))\n",
        "ax.matshow(cma, cmap =\"coolwarm_r\", alpha=0.3)\n",
        "for i in range(cma.shape[0]):\n",
        "    for j in range(cma.shape[1]):\n",
        "        ax.text(x=j, y=i,s=cma[i, j], va='center', ha='center', size='xx-large')\n",
        " \n",
        "plt.xlabel('Predictions', fontsize=18)\n",
        "plt.ylabel('Actuals', fontsize=18)\n",
        "plt.title('Confusion Matrix', fontsize=18)\n",
        "plt.show()"
      ]
    },
    {
      "cell_type": "markdown",
      "metadata": {
        "id": "hVuHkmeLy9hz"
      },
      "source": [
        "# Neural networks"
      ]
    },
    {
      "cell_type": "code",
      "execution_count": 58,
      "metadata": {
        "id": "P4Hq6-SWw44V"
      },
      "outputs": [],
      "source": [
        "from sklearn.neural_network import MLPClassifier"
      ]
    },
    {
      "cell_type": "code",
      "execution_count": 59,
      "metadata": {
        "colab": {
          "base_uri": "https://localhost:8080/"
        },
        "id": "SH7pU8DZybw7",
        "outputId": "8b17d2bb-26b7-4ff4-ae9a-bad3f61a0fb3"
      },
      "outputs": [
        {
          "output_type": "execute_result",
          "data": {
            "text/plain": [
              "MLPClassifier(alpha=1e-05, hidden_layer_sizes=(5, 2), random_state=1,\n",
              "              solver='lbfgs')"
            ]
          },
          "metadata": {},
          "execution_count": 59
        }
      ],
      "source": [
        "clf2= MLPClassifier(solver='lbfgs', alpha=1e-5,\n",
        "           hidden_layer_sizes=(5, 2), random_state=1)\n",
        "clf2.fit(X_train, y_train)"
      ]
    },
    {
      "cell_type": "code",
      "execution_count": 60,
      "metadata": {
        "colab": {
          "base_uri": "https://localhost:8080/"
        },
        "id": "yMSD17iIyiQz",
        "outputId": "e4cc5f7c-e670-45ca-d6d3-0839cd0d473c"
      },
      "outputs": [
        {
          "output_type": "execute_result",
          "data": {
            "text/plain": [
              "0.869198312236287"
            ]
          },
          "metadata": {},
          "execution_count": 60
        }
      ],
      "source": [
        "pred_NN= clf2.predict(X_train)\n",
        "accuracy_score(y_train, pred_NN)"
      ]
    },
    {
      "cell_type": "code",
      "execution_count": 61,
      "metadata": {
        "colab": {
          "base_uri": "https://localhost:8080/"
        },
        "id": "M1ffZbyszSeD",
        "outputId": "254b0e98-9f62-4d32-c002-0ba613f31c5c"
      },
      "outputs": [
        {
          "output_type": "execute_result",
          "data": {
            "text/plain": [
              "array([[ 98,  11],\n",
              "       [ 20, 108]])"
            ]
          },
          "metadata": {},
          "execution_count": 61
        }
      ],
      "source": [
        "confusion_matrix(y_train, pred_NN)"
      ]
    },
    {
      "cell_type": "code",
      "execution_count": 62,
      "metadata": {
        "id": "B2_-VKUGzcvH"
      },
      "outputs": [],
      "source": [
        "pred_NN_test = clf2.predict(X_test)\n",
        "u=accuracy_score(y_test, pred_NN_test)"
      ]
    },
    {
      "cell_type": "code",
      "execution_count": 63,
      "metadata": {
        "colab": {
          "base_uri": "https://localhost:8080/"
        },
        "id": "w648M0Qzzh35",
        "outputId": "c8d0664a-ba4b-43ca-ab06-2410ade5fd48"
      },
      "outputs": [
        {
          "output_type": "stream",
          "name": "stdout",
          "text": [
            "              precision    recall  f1-score   support\n",
            "\n",
            "         0.0       0.82      0.95      0.88        19\n",
            "         1.0       0.97      0.90      0.94        41\n",
            "\n",
            "    accuracy                           0.92        60\n",
            "   macro avg       0.90      0.92      0.91        60\n",
            "weighted avg       0.92      0.92      0.92        60\n",
            "\n"
          ]
        }
      ],
      "source": [
        "print(classification_report(y_test, pred_NN_test))"
      ]
    },
    {
      "cell_type": "code",
      "execution_count": 64,
      "metadata": {
        "id": "_k4JQ9hBznby"
      },
      "outputs": [],
      "source": [
        "cma = confusion_matrix(y_test, pred_NN_test)"
      ]
    },
    {
      "cell_type": "code",
      "execution_count": 65,
      "metadata": {
        "colab": {
          "base_uri": "https://localhost:8080/",
          "height": 0
        },
        "id": "TZWTPCUyzrHf",
        "outputId": "a79372aa-4094-4d95-9f70-d3db906ec83f"
      },
      "outputs": [
        {
          "output_type": "display_data",
          "data": {
            "text/plain": [
              "<Figure size 360x360 with 1 Axes>"
            ],
            "image/png": "[encoded data removed]"
          },
          "metadata": {}
        }
      ],
      "source": [
        "fig, ax = plt.subplots(figsize=(5, 5))\n",
        "ax.matshow(cma, cmap =\"prism\", alpha=0.3)\n",
        "for i in range(cma.shape[0]):\n",
        "    for j in range(cma.shape[1]):\n",
        "        ax.text(x=j, y=i,s=cma[i, j], va='center', ha='center', size='xx-large')\n",
        " \n",
        "plt.xlabel('Predictions', fontsize=18)\n",
        "plt.ylabel('Actuals', fontsize=18)\n",
        "plt.title('Confusion Matrix', fontsize=18)\n",
        "plt.show()"
      ]
    },
    {
      "cell_type": "markdown",
      "metadata": {
        "id": "z2Uivx3dzMOt"
      },
      "source": [
        "# XGBOOST"
      ]
    },
    {
      "cell_type": "code",
      "execution_count": 67,
      "metadata": {
        "id": "B-fYhyOxxoi4"
      },
      "outputs": [],
      "source": [
        "import xgboost as xgb"
      ]
    },
    {
      "cell_type": "code",
      "execution_count": 68,
      "metadata": {
        "colab": {
          "base_uri": "https://localhost:8080/"
        },
        "id": "9-n3k249x0AB",
        "outputId": "82a6f8aa-cccd-40aa-c2d1-e2c00a968751"
      },
      "outputs": [
        {
          "output_type": "execute_result",
          "data": {
            "text/plain": [
              "XGBClassifier()"
            ]
          },
          "metadata": {},
          "execution_count": 68
        }
      ],
      "source": [
        "xgb = xgb.XGBClassifier()\n",
        "xgb.fit(X_train,y_train)"
      ]
    },
    {
      "cell_type": "code",
      "execution_count": 69,
      "metadata": {
        "colab": {
          "base_uri": "https://localhost:8080/"
        },
        "id": "30fzgYoGyGQK",
        "outputId": "c7b57d7a-4361-4c28-e110-cdb2b02cdabd"
      },
      "outputs": [
        {
          "output_type": "execute_result",
          "data": {
            "text/plain": [
              "0.9746835443037974"
            ]
          },
          "metadata": {},
          "execution_count": 69
        }
      ],
      "source": [
        "pred_XGB= xgb.predict(X_train)\n",
        "accuracy_score(y_train, pred_XGB)"
      ]
    },
    {
      "cell_type": "code",
      "execution_count": 70,
      "metadata": {
        "colab": {
          "base_uri": "https://localhost:8080/"
        },
        "id": "XNZtz3RBycfX",
        "outputId": "95849560-15aa-43e1-9105-a6a112bb6aee"
      },
      "outputs": [
        {
          "output_type": "execute_result",
          "data": {
            "text/plain": [
              "array([[106,   3],\n",
              "       [  3, 125]])"
            ]
          },
          "metadata": {},
          "execution_count": 70
        }
      ],
      "source": [
        "confusion_matrix(y_train, pred_XGB)"
      ]
    },
    {
      "cell_type": "code",
      "execution_count": 71,
      "metadata": {
        "id": "9MebuYVeycZE"
      },
      "outputs": [],
      "source": [
        "pred_XGB_test = xgb.predict(X_test)\n",
        "v=accuracy_score(y_test, pred_XGB_test)"
      ]
    },
    {
      "cell_type": "code",
      "execution_count": 72,
      "metadata": {
        "colab": {
          "base_uri": "https://localhost:8080/"
        },
        "id": "qysoBoeCyRSz",
        "outputId": "f1910134-4a2a-4356-8495-7411bbf5b031"
      },
      "outputs": [
        {
          "output_type": "stream",
          "name": "stdout",
          "text": [
            "              precision    recall  f1-score   support\n",
            "\n",
            "         0.0       0.95      0.95      0.95        19\n",
            "         1.0       0.98      0.98      0.98        41\n",
            "\n",
            "    accuracy                           0.97        60\n",
            "   macro avg       0.96      0.96      0.96        60\n",
            "weighted avg       0.97      0.97      0.97        60\n",
            "\n"
          ]
        }
      ],
      "source": [
        "print(classification_report(y_test, pred_XGB_test))"
      ]
    },
    {
      "cell_type": "code",
      "execution_count": 73,
      "metadata": {
        "id": "2jC2UKrSylVS"
      },
      "outputs": [],
      "source": [
        "cma = confusion_matrix(y_test, pred_XGB_test)"
      ]
    },
    {
      "cell_type": "code",
      "execution_count": 74,
      "metadata": {
        "colab": {
          "base_uri": "https://localhost:8080/",
          "height": 0
        },
        "id": "HW_51_WXyl1T",
        "outputId": "20475d40-de1a-4fa3-fe60-0c823257e405"
      },
      "outputs": [
        {
          "output_type": "display_data",
          "data": {
            "text/plain": [
              "<Figure size 360x360 with 1 Axes>"
            ],
            "image/png": "[encoded data removed]"
          },
          "metadata": {}
        }
      ],
      "source": [
        "fig, ax = plt.subplots(figsize=(5, 5))\n",
        "ax.matshow(cma, cmap =\"prism\", alpha=0.3)\n",
        "for i in range(cma.shape[0]):\n",
        "    for j in range(cma.shape[1]):\n",
        "        ax.text(x=j, y=i,s=cma[i, j], va='center', ha='center', size='xx-large')\n",
        " \n",
        "plt.xlabel('Predictions', fontsize=18)\n",
        "plt.ylabel('Actuals', fontsize=18)\n",
        "plt.title('Confusion Matrix', fontsize=18)\n",
        "plt.show()"
      ]
    },
    {
      "cell_type": "markdown",
      "metadata": {
        "id": "seyZ7k1NoXq7"
      },
      "source": [
        "# Comparative predicting"
      ]
    },
    {
      "cell_type": "code",
      "execution_count": 75,
      "metadata": {
        "colab": {
          "base_uri": "https://localhost:8080/",
          "height": 410
        },
        "id": "nFV9oKAXd58l",
        "outputId": "c17624e0-2e9e-41fe-c590-d19b5d7d136b"
      },
      "outputs": [
        {
          "output_type": "display_data",
          "data": {
            "text/plain": [
              "<Figure size 720x432 with 1 Axes>"
            ],
            "image/png": "[encoded data removed]"
          },
          "metadata": {}
        }
      ],
      "source": [
        "import numpy as np\n",
        "import matplotlib.pyplot as plt\n",
        "# creating the dataset\n",
        "data = {'NB':p, 'RF':q, 'DT':r,'LR':s,'NN':u,'XGB':v}\n",
        "courses = list(data.keys())\n",
        "values = list(data.values())\n",
        "fig = plt.figure(figsize = (10, 6))\n",
        "# creating the bar plot\n",
        "plt.bar(courses, values, color ='crimson',\n",
        "\t\twidth = 0.4)\n",
        "plt.xlabel(\"Algorithms\")\n",
        "plt.ylabel(\"Accuracy\")\n",
        "plt.title(\"Comparitive analysis of algorithm on the basis of the acccuracy\")\n",
        "plt.show()\n"
      ]
    },
    {
      "cell_type": "code",
      "execution_count": 76,
      "metadata": {
        "colab": {
          "base_uri": "https://localhost:8080/",
          "height": 492
        },
        "id": "lCZX-NfGPIXr",
        "outputId": "0d6c27c7-69ae-42f1-b9c0-4875d0336aa2"
      },
      "outputs": [
        {
          "output_type": "display_data",
          "data": {
            "text/plain": [
              "<Figure size 842.4x595.44 with 1 Axes>"
            ],
            "image/png": "[encoded data removed]"
          },
          "metadata": {}
        }
      ],
      "source": [
        "activities = ['NB', 'RF', 'DT', 'LR','NN','XGB'] \n",
        "# portion covered by each label\n",
        "slices = [p,q,r,s,u,v]\n",
        " \n",
        "# color for each label\n",
        "colors = ['red', 'blue', 'green','yellow','black','crimson']\n",
        " \n",
        "# plotting the pie chart\n",
        "plt.pie(slices, labels = activities, colors=colors,\n",
        "        startangle=90, shadow = True, explode = (0, 0, 0.1,0,0.1,0),\n",
        "        radius = 1.2, autopct = '%1.1f%%')\n",
        " \n",
        "# plotting legend\n",
        "plt.legend()\n",
        " \n",
        "# showing the plot\n",
        "plt.show()"
      ]
    },
    {
      "cell_type": "markdown",
      "metadata": {
        "id": "5VeV4cV-a629"
      },
      "source": [
        "# Model saving"
      ]
    },
    {
      "cell_type": "code",
      "execution_count": null,
      "metadata": {
        "colab": {
          "base_uri": "https://localhost:8080/"
        },
        "id": "rb418UNxaOiP",
        "outputId": "d33a1da1-53bc-4352-e71d-d523cf42778f"
      },
      "outputs": [
        {
          "output_type": "execute_result",
          "data": {
            "text/plain": [
              "['XGBOOST.sav']"
            ]
          },
          "metadata": {},
          "execution_count": 91
        }
      ],
      "source": [
        "filename = 'naive_bayes.sav'\n",
        "joblib.dump(model, filename)\n",
        "filename1 = 'random_forest_Classifier.sav'\n",
        "joblib.dump(clf_forest, filename1)\n",
        "filename2 = 'decision_tree_classifier.sav'\n",
        "joblib.dump(clf, filename2)\n",
        "filename3 = 'logistic_regression.sav'\n",
        "joblib.dump(clf1, filename3)\n",
        "filename4 = 'neural_networks.sav'\n",
        "joblib.dump(clf2, filename4)\n",
        "filename5 = 'XGBOOST.sav'\n",
        "joblib.dump(xgb, filename5)"
      ]
    }
  ],
  "metadata": {
    "colab": {
      "collapsed_sections": [
        "ER14c1sn5NJM",
        "WXjjL8Kopoi1",
        "Q3HsL1KFjovz",
        "hVuHkmeLy9hz"
      ],
      "name": "Success_or_not",
      "provenance": []
    },
    "kernelspec": {
      "display_name": "Python 3",
      "name": "python3"
    },
    "language_info": {
      "name": "python"
    }
  },
  "nbformat": 4,
  "nbformat_minor": 0
}